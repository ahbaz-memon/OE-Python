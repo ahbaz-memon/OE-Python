{
 "cells": [
  {
   "cell_type": "markdown",
   "metadata": {},
   "source": [
    "# A.Python Program to implement following concept"
   ]
  },
  {
   "cell_type": "markdown",
   "metadata": {},
   "source": [
    "### 1.Operators"
   ]
  },
  {
   "cell_type": "markdown",
   "metadata": {},
   "source": [
    "##### a.arithmatic Operators"
   ]
  },
  {
   "cell_type": "code",
   "execution_count": 1,
   "metadata": {},
   "outputs": [],
   "source": [
    "a = 10 \n",
    "b = 3"
   ]
  },
  {
   "cell_type": "code",
   "execution_count": 2,
   "metadata": {},
   "outputs": [
    {
     "name": "stdout",
     "output_type": "stream",
     "text": [
      "addition :  13\n",
      "subtraction :  7\n",
      "multiplication :  30\n",
      "division :  3.3333333333333335\n",
      "floor division:  3\n",
      "modulus :  1\n"
     ]
    }
   ],
   "source": [
    "print('addition : ', a + b)\n",
    "print('subtraction : ', a - b)\n",
    "print('multiplication : ', a * b)\n",
    "print('division : ', a / b)\n",
    "print('floor division: ', a // b)\n",
    "print('modulus : ', a % b)"
   ]
  },
  {
   "cell_type": "markdown",
   "metadata": {},
   "source": [
    "##### b.logical operators"
   ]
  },
  {
   "cell_type": "code",
   "execution_count": 3,
   "metadata": {},
   "outputs": [],
   "source": [
    "a = True\n",
    "b = False"
   ]
  },
  {
   "cell_type": "code",
   "execution_count": 4,
   "metadata": {},
   "outputs": [
    {
     "name": "stdout",
     "output_type": "stream",
     "text": [
      "and :  False\n",
      "or :  True\n",
      "not :  False\n"
     ]
    }
   ],
   "source": [
    "print('and : ', a and b)\n",
    "print('or : ', a or b)\n",
    "print('not : ', not a)"
   ]
  },
  {
   "cell_type": "markdown",
   "metadata": {},
   "source": [
    "##### c.bitwise operators"
   ]
  },
  {
   "cell_type": "code",
   "execution_count": 5,
   "metadata": {},
   "outputs": [],
   "source": [
    "n = 25"
   ]
  },
  {
   "cell_type": "code",
   "execution_count": 6,
   "metadata": {},
   "outputs": [
    {
     "name": "stdout",
     "output_type": "stream",
     "text": [
      "right shift 6\n",
      "left shift 100\n"
     ]
    }
   ],
   "source": [
    "print('right shift', 25 >> 2)\n",
    "print('left shift', 25 << 2)"
   ]
  },
  {
   "cell_type": "markdown",
   "metadata": {},
   "source": [
    "##### d.assignment operators"
   ]
  },
  {
   "cell_type": "code",
   "execution_count": 7,
   "metadata": {},
   "outputs": [],
   "source": [
    "n = 25"
   ]
  },
  {
   "cell_type": "code",
   "execution_count": 8,
   "metadata": {},
   "outputs": [
    {
     "name": "stdout",
     "output_type": "stream",
     "text": [
      "is equal False\n",
      "add 27\n",
      "sub 25\n",
      "mul 50\n",
      "div 2.5\n"
     ]
    }
   ],
   "source": [
    "print('is equal', n == 20)\n",
    "\n",
    "n += 2\n",
    "print('add', n)\n",
    "\n",
    "n -= 2\n",
    "print('sub', n)\n",
    "\n",
    "n *= 2\n",
    "print('mul', n)\n",
    "\n",
    "n /= 20\n",
    "print('div', n)"
   ]
  },
  {
   "cell_type": "markdown",
   "metadata": {},
   "source": [
    "##### e.relational operators"
   ]
  },
  {
   "cell_type": "code",
   "execution_count": 9,
   "metadata": {},
   "outputs": [],
   "source": [
    "a = 10\n",
    "b = 3"
   ]
  },
  {
   "cell_type": "code",
   "execution_count": 10,
   "metadata": {},
   "outputs": [
    {
     "name": "stdout",
     "output_type": "stream",
     "text": [
      "is equal False\n",
      "is not equal True\n",
      "is greater than True\n",
      "is greater than and equal True\n",
      "is less than False\n",
      "is less than and equal False\n"
     ]
    }
   ],
   "source": [
    "print('is equal', a == b)\n",
    "print('is not equal', a != b)\n",
    "print('is greater than', a > b)\n",
    "print('is greater than and equal', a >= b)\n",
    "print('is less than', a < b)\n",
    "print('is less than and equal', a <= b)"
   ]
  },
  {
   "cell_type": "markdown",
   "metadata": {},
   "source": [
    "### 2.Range Function"
   ]
  },
  {
   "cell_type": "code",
   "execution_count": 11,
   "metadata": {},
   "outputs": [
    {
     "data": {
      "text/plain": [
       "[0, 1, 2, 3, 4]"
      ]
     },
     "execution_count": 11,
     "metadata": {},
     "output_type": "execute_result"
    }
   ],
   "source": [
    "list(range(5)) # the range for 0 to 4"
   ]
  },
  {
   "cell_type": "code",
   "execution_count": 12,
   "metadata": {},
   "outputs": [
    {
     "data": {
      "text/plain": [
       "[1, 3, 5, 7, 9, 11, 13, 15, 17, 19]"
      ]
     },
     "execution_count": 12,
     "metadata": {},
     "output_type": "execute_result"
    }
   ],
   "source": [
    "list(range(1, 21, 2)) # the range for 1 to 20 with incr 2"
   ]
  },
  {
   "cell_type": "code",
   "execution_count": 13,
   "metadata": {},
   "outputs": [
    {
     "data": {
      "text/plain": [
       "[1, -2, -5, -8, -11, -14]"
      ]
     },
     "execution_count": 13,
     "metadata": {},
     "output_type": "execute_result"
    }
   ],
   "source": [
    "list(range(1, -15, -3)) # the range for 1 to -15 with decr 3"
   ]
  },
  {
   "cell_type": "markdown",
   "metadata": {},
   "source": [
    "### 3.For Loop"
   ]
  },
  {
   "cell_type": "code",
   "execution_count": 14,
   "metadata": {},
   "outputs": [
    {
     "name": "stdout",
     "output_type": "stream",
     "text": [
      "5 10 15 20 "
     ]
    }
   ],
   "source": [
    "# printing only multiple of 5\n",
    "for e in range(1, 20 + 1):\n",
    "    if e % 5 == 0:\n",
    "        print(e, end = ' ')"
   ]
  },
  {
   "cell_type": "markdown",
   "metadata": {},
   "source": [
    "### 4.While Loop"
   ]
  },
  {
   "cell_type": "code",
   "execution_count": 16,
   "metadata": {},
   "outputs": [
    {
     "name": "stdout",
     "output_type": "stream",
     "text": [
      "1 2 3 4 6 7 8 9 11 12 13 14 16 17 18 19 "
     ]
    }
   ],
   "source": [
    "# printing other than multiple of 5\n",
    "i = 0\n",
    "while i < 20:\n",
    "    i += 1\n",
    "    if i % 5 == 0:\n",
    "        continue\n",
    "    print(i, end = ' ')"
   ]
  },
  {
   "cell_type": "markdown",
   "metadata": {},
   "source": [
    "# B.Python Program to display all prime numbers within an interval 11 to 50"
   ]
  },
  {
   "cell_type": "code",
   "execution_count": 17,
   "metadata": {},
   "outputs": [],
   "source": [
    "def isprime(n):\n",
    "    '''\n",
    "    funtion for checking\n",
    "    whether a number n is prime or not\n",
    "    '''\n",
    "    flag = True\n",
    "    for e in range(2, n, 1):\n",
    "        if n % e == 0:\n",
    "            flag = False\n",
    "            break\n",
    "    return flag"
   ]
  },
  {
   "cell_type": "code",
   "execution_count": 18,
   "metadata": {},
   "outputs": [
    {
     "data": {
      "text/plain": [
       "False"
      ]
     },
     "execution_count": 18,
     "metadata": {},
     "output_type": "execute_result"
    }
   ],
   "source": [
    "isprime(14) # is 14 a prime?"
   ]
  },
  {
   "cell_type": "code",
   "execution_count": 19,
   "metadata": {},
   "outputs": [
    {
     "data": {
      "text/plain": [
       "True"
      ]
     },
     "execution_count": 19,
     "metadata": {},
     "output_type": "execute_result"
    }
   ],
   "source": [
    "isprime(17) # is 17 a prime?"
   ]
  },
  {
   "cell_type": "code",
   "execution_count": 20,
   "metadata": {},
   "outputs": [
    {
     "name": "stdout",
     "output_type": "stream",
     "text": [
      "Enter starting point for displaying prime numbers : 11\n",
      "Enter ending point for displaying prime numbers : 50\n",
      "\n",
      "The prime numbers are :\n",
      "11 13 17 19 23 29 31 37 41 43 47 "
     ]
    }
   ],
   "source": [
    "start = int(input(\"Enter starting point for displaying prime numbers : \")) # starting range\n",
    "end = int(input(\"Enter ending point for displaying prime numbers : \")) # ending range\n",
    "\n",
    "print()\n",
    "print(\"The prime numbers are :\")\n",
    "for e in range(start, end + 1, 1):\n",
    "    if isprime(e):\n",
    "        print(e, end = ' ') # printing prime nubers"
   ]
  },
  {
   "cell_type": "markdown",
   "metadata": {},
   "source": [
    "# C.Python Program to check given number is even or odd"
   ]
  },
  {
   "cell_type": "code",
   "execution_count": 21,
   "metadata": {},
   "outputs": [],
   "source": [
    "def Even_or_Odd(n):\n",
    "    '''\n",
    "    function for checking\n",
    "    a number is even or odd\n",
    "    '''\n",
    "    result = n % 2\n",
    "    if result == 0:\n",
    "        return 'even'\n",
    "    else:\n",
    "        return 'odd'"
   ]
  },
  {
   "cell_type": "code",
   "execution_count": 22,
   "metadata": {},
   "outputs": [
    {
     "name": "stdout",
     "output_type": "stream",
     "text": [
      "Enter a number to know its even or odd : 7\n",
      "\n",
      "Number 7 is a odd.\n"
     ]
    }
   ],
   "source": [
    "n = int(input(\"Enter a number to know its even or odd : \")) # inputing a number\n",
    "\n",
    "print()\n",
    "print('Number ' + str(n) + ' is a ' + Even_or_Odd(n) + '.') # is even or oddd ?"
   ]
  },
  {
   "cell_type": "code",
   "execution_count": 23,
   "metadata": {},
   "outputs": [
    {
     "name": "stdout",
     "output_type": "stream",
     "text": [
      "Enter a number to know its even or odd : 62\n",
      "\n",
      "Number 62 is a even.\n"
     ]
    }
   ],
   "source": [
    "n = int(input(\"Enter a number to know its even or odd : \")) # inputing a number\n",
    "\n",
    "print()\n",
    "print('Number ' + str(n) + ' is a ' + Even_or_Odd(n) + '.') # is even or oddd ?"
   ]
  },
  {
   "cell_type": "code",
   "execution_count": null,
   "metadata": {},
   "outputs": [],
   "source": []
  }
 ],
 "metadata": {
  "kernelspec": {
   "display_name": "Python [conda env:tensorflow_2] *",
   "language": "python",
   "name": "conda-env-tensorflow_2-py"
  },
  "language_info": {
   "codemirror_mode": {
    "name": "ipython",
    "version": 3
   },
   "file_extension": ".py",
   "mimetype": "text/x-python",
   "name": "python",
   "nbconvert_exporter": "python",
   "pygments_lexer": "ipython3",
   "version": "3.7.9"
  }
 },
 "nbformat": 4,
 "nbformat_minor": 4
}
